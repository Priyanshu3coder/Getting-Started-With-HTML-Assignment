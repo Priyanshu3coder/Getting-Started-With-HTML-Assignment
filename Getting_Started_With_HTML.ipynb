{
  "nbformat": 4,
  "nbformat_minor": 0,
  "metadata": {
    "colab": {
      "provenance": []
    },
    "kernelspec": {
      "name": "python3",
      "display_name": "Python 3"
    },
    "language_info": {
      "name": "python"
    }
  },
  "cells": [
    {
      "cell_type": "code",
      "execution_count": null,
      "metadata": {
        "id": "REXHLYl1waGz"
      },
      "outputs": [],
      "source": []
    },
    {
      "cell_type": "markdown",
      "source": [
        "**Assignment Questions**\n",
        "\n",
        "  Q.1 Write a simple program in HTML  that displays the heading \"HTML defines the content and structure of\n",
        "your website” on the web browser?\n",
        "\n",
        "Answer -->\n"
      ],
      "metadata": {
        "id": "yG0TkRfixIEE"
      }
    },
    {
      "cell_type": "code",
      "source": [
        "<!DOCTYPE html>\n",
        "<html lang=\"en\">\n",
        "<head>\n",
        "    <meta charset=\"UTF-8\">\n",
        "    <title>HTML Heading Example</title>\n",
        "</head>\n",
        "<body>\n",
        "\n",
        "    <h1>HTML defines the content and structure of your website</h1>\n",
        "\n",
        "</body>\n",
        "</html>\n"
      ],
      "metadata": {
        "id": "jbJe-XaJxZQM"
      },
      "execution_count": null,
      "outputs": []
    },
    {
      "cell_type": "markdown",
      "source": [
        "Q.2  Explain the purpose of comments in HTML and provide an example of how to use comments in an HTML\n",
        "document?\n",
        "\n",
        "Answer -->\n",
        "\n",
        "**Purpose of Comments in HTML**\n",
        "\n",
        "Comments in HTML are used to add notes or explanations within the code that are not displayed in the web browser. They help developers:\n",
        "\n",
        "\n",
        "\n",
        "\n",
        "*   Understand the structure or purpose of the code\n",
        "*   Leave reminders or instructions for themselves or\n",
        "    others.\n",
        "*   Temporarily disable code during development or debugging.\n",
        "\n",
        "\n",
        "\n"
      ],
      "metadata": {
        "id": "s-3QDTvczCyO"
      }
    },
    {
      "cell_type": "code",
      "source": [
        "<!DOCTYPE html>\n",
        "<html>\n",
        "<head>\n",
        "    <title>Comment Example</title>\n",
        "</head>\n",
        "<body>\n",
        "\n",
        "    <!-- This is the main heading of the page -->\n",
        "    <h1>Welcome to My Website</h1>\n",
        "\n",
        "    <!-- The paragraph below introduces the content -->\n",
        "    <p>This website is built using HTML.</p>\n",
        "\n",
        "</body>\n",
        "</html>\n"
      ],
      "metadata": {
        "id": "At6g2SDwz0WK"
      },
      "execution_count": null,
      "outputs": []
    },
    {
      "cell_type": "markdown",
      "source": [
        "Q.3 Write an HTML program that includes a heading, a paragraph of text, a horizontal line, and a line break.\n",
        "Arrange these elements to create a simple web page layout?\n",
        "\n",
        "Answer -->"
      ],
      "metadata": {
        "id": "M5LYynuSz5hc"
      }
    },
    {
      "cell_type": "code",
      "source": [
        "<!DOCTYPE html>\n",
        "<html lang=\"en\">\n",
        "<head>\n",
        "    <meta charset=\"UTF-8\">\n",
        "    <title>Simple Web Page Layout</title>\n",
        "</head>\n",
        "<body>\n",
        "\n",
        "    <h1>Welcome to My Web Page</h1>\n",
        "\n",
        "    <hr> <!-- Horizontal line -->\n",
        "\n",
        "    <p>\n",
        "        This is a paragraph of text that introduces the content of the page.\n",
        "        <br> <!-- Line break -->\n",
        "        Here's a new line within the same paragraph to demonstrate line breaks.\n",
        "    </p>\n",
        "\n",
        "</body>\n",
        "</html>\n"
      ],
      "metadata": {
        "id": "tMWMpvWK0FX8"
      },
      "execution_count": null,
      "outputs": []
    },
    {
      "cell_type": "markdown",
      "source": [
        "Q.4 Write a short note on Tag and element with an example?\n",
        "\n",
        "Answer -->\n",
        "\n",
        "**Tag:**\n",
        "\n",
        "A tag is a piece of HTML code used to define the structure and content of an HTML document. Tags are enclosed in angle brackets (< >). Most tags come in pairs: an opening tag and a closing tag.\n",
        "\n",
        "Opening tag: <tagname\n",
        "\n",
        "Closing tag: </tagname"
      ],
      "metadata": {
        "id": "bHRPOYy50HaU"
      }
    },
    {
      "cell_type": "markdown",
      "source": [
        "<p>This is a paragraph.</p>"
      ],
      "metadata": {
        "id": "soAedsQr0jr3"
      }
    },
    {
      "cell_type": "markdown",
      "source": [
        "**Element:**\n",
        "\n",
        "An element refers to everything from the opening tag to the closing tag, including the content in between.\n",
        "\n",
        "<p>This is a paragraph.</p>\n",
        "\n",
        "The entire line is an HTML element including the opening and closing tag"
      ],
      "metadata": {
        "id": "tsAZU5oM1Dmh"
      }
    },
    {
      "cell_type": "markdown",
      "source": [
        "Q.5 What is the DOCTYPE Declaration in HTML?\n",
        "\n",
        "Answer -->\n",
        "\n",
        "The DOCTYPE declaration in HTML tells the web browser what version of HTML the page is written in. It helps the browser render the page correctly by switching to the appropriate rendering mode.\n",
        "\n",
        "**Syntax :**"
      ],
      "metadata": {
        "id": "r5oeJYeQ1huJ"
      }
    },
    {
      "cell_type": "code",
      "source": [
        "<!DOCTYPE html>"
      ],
      "metadata": {
        "id": "p1aZGqoW19x5"
      },
      "execution_count": null,
      "outputs": []
    },
    {
      "cell_type": "markdown",
      "source": [
        "This is the declaration used for HTML5, the current standard.\n",
        "\n",
        "**Key Ponts**\n",
        "\n",
        "\n",
        "*   It must appear at the very top of an HTML document, before the <html> tag.\n",
        "\n",
        "*   It is not an HTML tag, but an instruction to the browser.\n",
        "*   It is not case-sensitive, but it’s usually written in uppercase for convention.\n",
        "\n",
        "\n",
        "*   Modern HTML uses the simplified HTML5 declaration: <!DOCTYPE html>\n",
        "\n"
      ],
      "metadata": {
        "id": "PT3wJzZo1_i6"
      }
    },
    {
      "cell_type": "code",
      "source": [
        "<!DOCTYPE html>\n",
        "<html>\n",
        "<head>\n",
        "    <title>Sample Page</title>\n",
        "</head>\n",
        "<body>\n",
        "    <h1>Welcome!</h1>\n",
        "</body>\n",
        "</html>\n"
      ],
      "metadata": {
        "id": "mXIkL33n2qdM"
      },
      "execution_count": null,
      "outputs": []
    }
  ]
}